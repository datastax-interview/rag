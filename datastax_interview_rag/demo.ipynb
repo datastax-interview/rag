{
 "cells": [
  {
   "cell_type": "code",
   "execution_count": null,
   "metadata": {},
   "outputs": [],
   "source": [
    "!pip install openai\n",
    "!pip install python-dotenv\n",
    "!pip install llama-index\n",
    "!pip install astrapy\n",
    "!pip install pymupdf\n",
    "!pip install tqdm"
   ]
  },
  {
   "cell_type": "code",
   "execution_count": null,
   "metadata": {},
   "outputs": [],
   "source": [
    "!llamaindex-cli download-llamadataset PatronusAIFinanceBenchDataset --download-dir ./finance_bench"
   ]
  },
  {
   "cell_type": "code",
   "execution_count": null,
   "metadata": {},
   "outputs": [],
   "source": [
    "from llama_index.embeddings.openai import OpenAIEmbedding\n",
    "from rag_system import RAGSystem\n",
    "import pymupdf\n",
    "import os\n",
    "from dotenv import load_dotenv\n",
    "\n",
    "load_dotenv()\n"
   ]
  },
  {
   "cell_type": "code",
   "execution_count": null,
   "metadata": {},
   "outputs": [],
   "source": [
    "def read_pdf(file_path):\n",
    "    doc = pymupdf.open(file_path) # open a document\n",
    "    doc_text = \"\"\n",
    "    for page in doc: # iterate the document pages\n",
    "        text = page.get_text()\n",
    "        doc_text += \"/n\" + text\n",
    "    return doc_text\n",
    "\n",
    "def read_directory(directory_path):\n",
    "    documents = []\n",
    "    def process_directory(path):\n",
    "        for entry in os.scandir(path):\n",
    "            if entry.is_file() and entry.name.lower().endswith('.pdf'):\n",
    "                document_text = read_pdf(entry.path)\n",
    "                documents.append((document_text, {\"file_name\": entry.name}))\n",
    "            elif entry.is_dir():\n",
    "                process_directory(entry.path)\n",
    "    \n",
    "    process_directory(directory_path)\n",
    "    return documents"
   ]
  },
  {
   "cell_type": "code",
   "execution_count": null,
   "metadata": {},
   "outputs": [],
   "source": [
    "embed_model = OpenAIEmbedding(model_name=\"text-embedding-3-small\")\n",
    "documents, metadatas = zip(*read_directory(\"./finance_bench/source_files\"))\n",
    "print(f\"Number of loaded documents: {len(documents)}\")\n",
    "rag_system = RAGSystem(embed_model, \"patronus_ai_finance_bench\")\n",
    "rag_system.insert_documents(documents, metadatas)"
   ]
  },
  {
   "cell_type": "code",
   "execution_count": null,
   "metadata": {},
   "outputs": [],
   "source": [
    "response = rag_system.query(\"What is the FY2018 capital expenditure amount (in USD millions) for 3M? Give a response to the question by relying on the details shown in the cash flow statement.\")\n",
    "print(response)"
   ]
  }
 ],
 "metadata": {
  "language_info": {
   "name": "python"
  }
 },
 "nbformat": 4,
 "nbformat_minor": 2
}
